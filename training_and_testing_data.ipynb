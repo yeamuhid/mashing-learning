{
  "nbformat": 4,
  "nbformat_minor": 0,
  "metadata": {
    "colab": {
      "provenance": [],
      "authorship_tag": "ABX9TyPBYiKmYIa7DKNwiJ8BOeEY",
      "include_colab_link": true
    },
    "kernelspec": {
      "name": "python3",
      "display_name": "Python 3"
    },
    "language_info": {
      "name": "python"
    }
  },
  "cells": [
    {
      "cell_type": "markdown",
      "metadata": {
        "id": "view-in-github",
        "colab_type": "text"
      },
      "source": [
        "<a href=\"https://colab.research.google.com/github/yeamuhid/mashing-learning/blob/main/training_and_testing_data.ipynb\" target=\"_parent\"><img src=\"https://colab.research.google.com/assets/colab-badge.svg\" alt=\"Open In Colab\"/></a>"
      ]
    },
    {
      "cell_type": "code",
      "execution_count": null,
      "metadata": {
        "colab": {
          "base_uri": "https://localhost:8080/"
        },
        "id": "kpWo-pFQxq6X",
        "outputId": "b4c4cc67-9996-46d9-e3ee-ffce8a587b29"
      },
      "outputs": [
        {
          "output_type": "stream",
          "name": "stdout",
          "text": [
            "Training Features:\n",
            "    Feature1  Feature2\n",
            "4        50        55\n",
            "2        30        35\n",
            "0        10        15\n",
            "3        40        45\n",
            "\n",
            "Testing Features:\n",
            "    Feature1  Feature2\n",
            "1        20        25\n",
            "\n",
            "Training Labels:\n",
            " 4    0\n",
            "2    0\n",
            "0    0\n",
            "3    1\n",
            "Name: Label, dtype: int64\n",
            "\n",
            "Testing Labels:\n",
            " 1    1\n",
            "Name: Label, dtype: int64\n"
          ]
        }
      ],
      "source": [
        "# Import necessary libraries\n",
        "import numpy as np\n",
        "import pandas as pd\n",
        "from sklearn.model_selection import train_test_split\n",
        "\n",
        "# Example dataset\n",
        "# Create a sample dataset with features and labels\n",
        "data = {\n",
        "    'Feature1': [10, 20, 30, 40, 50],\n",
        "    'Feature2': [15, 25, 35, 45, 55],\n",
        "    'Label': [0, 1, 0, 1, 0]\n",
        "}\n",
        "\n",
        "# Convert the dataset into a Pandas DataFrame\n",
        "df = pd.DataFrame(data)\n",
        "\n",
        "# Separate features (X) and labels (y)\n",
        "X = df[['Feature1', 'Feature2']]  # Features\n",
        "y = df['Label']                  # Target/Label\n",
        "\n",
        "# Split the dataset into training and testing sets\n",
        "# 80% for training and 20% for testing\n",
        "X_train, X_test, y_train, y_test = train_test_split(X, y, test_size=0.2, random_state=42)\n",
        "\n",
        "# Display the results\n",
        "print(\"Training Features:\\n\", X_train)\n",
        "print(\"\\nTesting Features:\\n\", X_test)\n",
        "print(\"\\nTraining Labels:\\n\", y_train)\n",
        "print(\"\\nTesting Labels:\\n\", y_test)\n"
      ]
    },
    {
      "cell_type": "code",
      "source": [
        "# Import necessary libraries\n",
        "import numpy as np\n",
        "import pandas as pd\n",
        "from sklearn.model_selection import train_test_split, StratifiedKFold\n",
        "from sklearn.datasets import make_classification\n",
        "\n",
        "# Generate a synthetic dataset for demonstration\n",
        "X, y = make_classification(\n",
        "    n_samples=1000,  # Number of samples\n",
        "    n_features=10,   # Number of features\n",
        "    n_informative=8, # Number of informative features\n",
        "    n_redundant=2,   # Number of redundant features\n",
        "    n_classes=2,     # Number of target classes\n",
        "    weights=[0.7, 0.3], # Class imbalance\n",
        "    random_state=42\n",
        ")\n",
        "\n",
        "# Convert to DataFrame for easier handling\n",
        "data = pd.DataFrame(X, columns=[f\"Feature_{i}\" for i in range(X.shape[1])])\n",
        "data['Label'] = y\n",
        "\n",
        "# 1. Split the dataset into training and testing sets with stratification\n",
        "X_train, X_test, y_train, y_test = train_test_split(\n",
        "    data.drop(columns='Label'),  # Features\n",
        "    data['Label'],              # Target\n",
        "    test_size=0.2,              # 20% for testing\n",
        "    stratify=data['Label'],     # Maintain class distribution\n",
        "    random_state=42             # Reproducibility\n",
        ")\n",
        "\n",
        "# 2. Perform K-Fold Cross-Validation on the training data\n",
        "skf = StratifiedKFold(n_splits=5, shuffle=True, random_state=42)\n",
        "fold = 1\n",
        "for train_idx, val_idx in skf.split(X_train, y_train):\n",
        "    print(f\"Fold {fold}:\")\n",
        "    print(\"Training indices:\", train_idx[:10], \"...\")\n",
        "    print(\"Validation indices:\", val_idx[:10], \"...\")\n",
        "    fold += 1\n",
        "\n",
        "# 3. Summary of splits\n",
        "print(\"\\nTraining set size:\", X_train.shape)\n",
        "print(\"Testing set size:\", X_test.shape)\n",
        "print(\"Class distribution in training set:\", y_train.value_counts())\n",
        "print(\"Class distribution in testing set:\", y_test.value_counts())\n"
      ],
      "metadata": {
        "colab": {
          "base_uri": "https://localhost:8080/"
        },
        "id": "PDAERKHqye2X",
        "outputId": "5ae31629-5650-463d-97a2-08cfff0b0794"
      },
      "execution_count": null,
      "outputs": [
        {
          "output_type": "stream",
          "name": "stdout",
          "text": [
            "Fold 1:\n",
            "Training indices: [ 0  1  3  5  6  7  8  9 11 12] ...\n",
            "Validation indices: [ 2  4 10 18 27 28 29 33 43 50] ...\n",
            "Fold 2:\n",
            "Training indices: [ 1  2  3  4  5  6  7  8  9 10] ...\n",
            "Validation indices: [ 0 11 14 15 16 17 20 21 22 24] ...\n",
            "Fold 3:\n",
            "Training indices: [ 0  1  2  4  5  6  9 10 11 12] ...\n",
            "Validation indices: [ 3  7  8 13 23 30 31 35 37 39] ...\n",
            "Fold 4:\n",
            "Training indices: [ 0  1  2  3  4  7  8 10 11 12] ...\n",
            "Validation indices: [ 5  6  9 19 26 40 42 45 51 53] ...\n",
            "Fold 5:\n",
            "Training indices: [ 0  2  3  4  5  6  7  8  9 10] ...\n",
            "Validation indices: [ 1 12 48 49 52 58 60 64 68 69] ...\n",
            "\n",
            "Training set size: (800, 10)\n",
            "Testing set size: (200, 10)\n",
            "Class distribution in training set: Label\n",
            "0    558\n",
            "1    242\n",
            "Name: count, dtype: int64\n",
            "Class distribution in testing set: Label\n",
            "0    140\n",
            "1     60\n",
            "Name: count, dtype: int64\n"
          ]
        }
      ]
    },
    {
      "cell_type": "code",
      "source": [
        "# Import necessary libraries\n",
        "from sklearn.model_selection import train_test_split\n",
        "\n",
        "# Example dataset\n",
        "# Features (X) and Labels (y)\n",
        "X = [[1], [2], [3], [4], [5], [6], [7], [8], [9], [10]]  # Features\n",
        "y = [0, 1, 0, 1, 0, 1, 0, 1, 0, 1]                     # Labels\n",
        "\n",
        "# Split the data into training and testing sets\n",
        "X_train, X_test, y_train, y_test = train_test_split(X, y, test_size=0.3, random_state=42)\n",
        "\n",
        "# Display the results\n",
        "print(\"Training Features:\", X_train)\n",
        "print(\"Testing Features:\", X_test)\n",
        "print(\"Training Labels:\", y_train)\n",
        "print(\"Testing Labels:\", y_test)\n"
      ],
      "metadata": {
        "colab": {
          "base_uri": "https://localhost:8080/"
        },
        "id": "mo5CCwbhymK2",
        "outputId": "089a484f-e0ab-4e75-b4dc-a9e071fa92ef"
      },
      "execution_count": null,
      "outputs": [
        {
          "output_type": "stream",
          "name": "stdout",
          "text": [
            "Training Features: [[1], [8], [3], [10], [5], [4], [7]]\n",
            "Testing Features: [[9], [2], [6]]\n",
            "Training Labels: [0, 1, 0, 1, 0, 1, 0]\n",
            "Testing Labels: [0, 1, 1]\n"
          ]
        }
      ]
    },
    {
      "cell_type": "code",
      "source": [
        "# Import necessary libraries\n",
        "from sklearn.model_selection import train_test_split\n",
        "import pandas as pd\n",
        "\n",
        "# Create an example dataset\n",
        "data = {\n",
        "    'Age': [25, 30, 35, 40, 45, 50, 55, 60, 65, 70],\n",
        "    'Salary': [50000, 54000, 58000, 62000, 66000, 70000, 74000, 78000, 82000, 86000],\n",
        "    'Purchased': [0, 1, 0, 1, 0, 1, 0, 1, 0, 1]  # 0 = No, 1 = Yes\n",
        "}\n",
        "\n",
        "# Convert the dataset to a Pandas DataFrame\n",
        "df = pd.DataFrame(data)\n",
        "\n",
        "# Separate features (X) and target/label (y)\n",
        "X = df[['Age', 'Salary']]  # Features: Age and Salary\n",
        "y = df['Purchased']        # Target: Purchased (0 or 1)\n",
        "\n",
        "# Split the dataset into training and testing sets\n",
        "X_train, X_test, y_train, y_test = train_test_split(X, y, test_size=0.3, random_state=42)\n",
        "\n",
        "# Display the results\n",
        "print(\"Training Features:\\n\", X_train)\n",
        "print(\"\\nTesting Features:\\n\", X_test)\n",
        "print(\"\\nTraining Labels:\\n\", y_train)\n",
        "print(\"\\nTesting Labels:\\n\", y_test)\n"
      ],
      "metadata": {
        "colab": {
          "base_uri": "https://localhost:8080/"
        },
        "id": "dF-B8cE5zfh1",
        "outputId": "7553a043-c071-4b3b-ea85-c1c9df3e1ef1"
      },
      "execution_count": null,
      "outputs": [
        {
          "output_type": "stream",
          "name": "stdout",
          "text": [
            "Training Features:\n",
            "    Age  Salary\n",
            "0   25   50000\n",
            "7   60   78000\n",
            "2   35   58000\n",
            "9   70   86000\n",
            "4   45   66000\n",
            "3   40   62000\n",
            "6   55   74000\n",
            "\n",
            "Testing Features:\n",
            "    Age  Salary\n",
            "8   65   82000\n",
            "1   30   54000\n",
            "5   50   70000\n",
            "\n",
            "Training Labels:\n",
            " 0    0\n",
            "7    1\n",
            "2    0\n",
            "9    1\n",
            "4    0\n",
            "3    1\n",
            "6    0\n",
            "Name: Purchased, dtype: int64\n",
            "\n",
            "Testing Labels:\n",
            " 8    0\n",
            "1    1\n",
            "5    1\n",
            "Name: Purchased, dtype: int64\n"
          ]
        }
      ]
    }
  ]
}